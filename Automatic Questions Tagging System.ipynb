{
  "nbformat": 4,
  "nbformat_minor": 0,
  "metadata": {
    "colab": {
      "name": "Automatic Questions Tagging System.ipynb",
      "provenance": [],
      "collapsed_sections": []
    },
    "kernelspec": {
      "name": "python3",
      "display_name": "Python 3"
    },
    "language_info": {
      "name": "python"
    }
  },
  "cells": [
    {
      "cell_type": "markdown",
      "metadata": {
        "id": "pxsVCrvHIWoz"
      },
      "source": [
        "# **Loading Dataset from Kaggle to Dataframe**"
      ]
    },
    {
      "cell_type": "markdown",
      "metadata": {
        "id": "e9zc15aNI9qj"
      },
      "source": [
        "### **A. Load Python Questions from Stack Overflow Kaggle Datasets**"
      ]
    },
    {
      "cell_type": "code",
      "metadata": {
        "colab": {
          "base_uri": "https://localhost:8080/"
        },
        "id": "uhRlqF7F88Hq",
        "outputId": "d597d478-2dec-4258-b5e1-9c26d53b63ef"
      },
      "source": [
        "! pip install kaggle"
      ],
      "execution_count": null,
      "outputs": [
        {
          "output_type": "stream",
          "name": "stdout",
          "text": [
            "Requirement already satisfied: kaggle in /usr/local/lib/python3.7/dist-packages (1.5.12)\n",
            "Requirement already satisfied: tqdm in /usr/local/lib/python3.7/dist-packages (from kaggle) (4.62.3)\n",
            "Requirement already satisfied: python-dateutil in /usr/local/lib/python3.7/dist-packages (from kaggle) (2.8.2)\n",
            "Requirement already satisfied: certifi in /usr/local/lib/python3.7/dist-packages (from kaggle) (2021.10.8)\n",
            "Requirement already satisfied: python-slugify in /usr/local/lib/python3.7/dist-packages (from kaggle) (5.0.2)\n",
            "Requirement already satisfied: urllib3 in /usr/local/lib/python3.7/dist-packages (from kaggle) (1.24.3)\n",
            "Requirement already satisfied: six>=1.10 in /usr/local/lib/python3.7/dist-packages (from kaggle) (1.15.0)\n",
            "Requirement already satisfied: requests in /usr/local/lib/python3.7/dist-packages (from kaggle) (2.23.0)\n",
            "Requirement already satisfied: text-unidecode>=1.3 in /usr/local/lib/python3.7/dist-packages (from python-slugify->kaggle) (1.3)\n",
            "Requirement already satisfied: chardet<4,>=3.0.2 in /usr/local/lib/python3.7/dist-packages (from requests->kaggle) (3.0.4)\n",
            "Requirement already satisfied: idna<3,>=2.5 in /usr/local/lib/python3.7/dist-packages (from requests->kaggle) (2.10)\n"
          ]
        }
      ]
    },
    {
      "cell_type": "code",
      "metadata": {
        "id": "ROiq3HyfA_Cq"
      },
      "source": [
        "! mkdir ~/.kaggle"
      ],
      "execution_count": null,
      "outputs": []
    },
    {
      "cell_type": "code",
      "metadata": {
        "id": "S9RFhwiQBPcz"
      },
      "source": [
        "! cp kaggle.json ~/.kaggle/"
      ],
      "execution_count": null,
      "outputs": []
    },
    {
      "cell_type": "code",
      "metadata": {
        "id": "4kaOIC3FHNDx"
      },
      "source": [
        "! chmod 600 ~/.kaggle/kaggle.json"
      ],
      "execution_count": null,
      "outputs": []
    },
    {
      "cell_type": "code",
      "metadata": {
        "colab": {
          "base_uri": "https://localhost:8080/"
        },
        "id": "-gkyD52NHQGP",
        "outputId": "58c01c17-3502-4b54-e0e8-51236a572b92"
      },
      "source": [
        "! kaggle datasets download stackoverflow/pythonquestions"
      ],
      "execution_count": null,
      "outputs": [
        {
          "output_type": "stream",
          "name": "stdout",
          "text": [
            "Downloading pythonquestions.zip to /content\n",
            " 99% 551M/558M [00:19<00:00, 33.6MB/s]\n",
            "100% 558M/558M [00:19<00:00, 29.8MB/s]\n"
          ]
        }
      ]
    },
    {
      "cell_type": "code",
      "metadata": {
        "colab": {
          "base_uri": "https://localhost:8080/"
        },
        "id": "uSNdSPHVH0PR",
        "outputId": "c3a5d82f-4abe-45fb-9f92-7b4e6dfac407"
      },
      "source": [
        "! unzip pythonquestions.zip"
      ],
      "execution_count": null,
      "outputs": [
        {
          "output_type": "stream",
          "name": "stdout",
          "text": [
            "Archive:  pythonquestions.zip\n",
            "  inflating: Answers.csv             \n",
            "  inflating: Questions.csv           \n",
            "  inflating: Tags.csv                \n"
          ]
        }
      ]
    },
    {
      "cell_type": "markdown",
      "metadata": {
        "id": "f9tXf4LzIff1"
      },
      "source": [
        "### **B. Importing Libraries**"
      ]
    },
    {
      "cell_type": "code",
      "metadata": {
        "colab": {
          "base_uri": "https://localhost:8080/"
        },
        "id": "KGTpdFlFIFah",
        "outputId": "66b5516b-5e07-4550-f575-afe3881de8dd"
      },
      "source": [
        "import numpy as np\n",
        "import pandas as pd\n",
        "import string\n",
        "import re\n",
        "import nltk\n",
        "nltk.download('wordnet')\n",
        "from nltk.stem import WordNetLemmatizer\n",
        "nltk.download('stopwords')\n",
        "from nltk.corpus import stopwords\n",
        "from sklearn.feature_extraction.text import TfidfVectorizer\n",
        "from sklearn.preprocessing import LabelEncoder\n",
        "from sklearn.model_selection import train_test_split\n",
        "from sklearn.neighbors import KNeighborsClassifier\n",
        "from sklearn import metrics\n",
        "import matplotlib.pyplot as plt"
      ],
      "execution_count": null,
      "outputs": [
        {
          "output_type": "stream",
          "name": "stdout",
          "text": [
            "[nltk_data] Downloading package wordnet to /root/nltk_data...\n",
            "[nltk_data]   Package wordnet is already up-to-date!\n",
            "[nltk_data] Downloading package stopwords to /root/nltk_data...\n",
            "[nltk_data]   Package stopwords is already up-to-date!\n"
          ]
        }
      ]
    },
    {
      "cell_type": "markdown",
      "metadata": {
        "id": "itw9mnbgU5r_"
      },
      "source": [
        "### **C. Reading and Displaying Datasets**"
      ]
    },
    {
      "cell_type": "code",
      "metadata": {
        "id": "6DsFjOGbI129"
      },
      "source": [
        "questions = pd.read_csv('Questions.csv', encoding='latin')\n",
        "answers = pd.read_csv('Answers.csv', encoding='latin')\n",
        "tags = pd.read_csv('Tags.csv', encoding='latin')"
      ],
      "execution_count": null,
      "outputs": []
    },
    {
      "cell_type": "code",
      "metadata": {
        "colab": {
          "base_uri": "https://localhost:8080/",
          "height": 206
        },
        "id": "hYuLt9jMJWLr",
        "outputId": "7027dac5-f9eb-420a-e749-94ecd5e5de75"
      },
      "source": [
        "questions.head()"
      ],
      "execution_count": null,
      "outputs": [
        {
          "output_type": "execute_result",
          "data": {
            "text/html": [
              "<div>\n",
              "<style scoped>\n",
              "    .dataframe tbody tr th:only-of-type {\n",
              "        vertical-align: middle;\n",
              "    }\n",
              "\n",
              "    .dataframe tbody tr th {\n",
              "        vertical-align: top;\n",
              "    }\n",
              "\n",
              "    .dataframe thead th {\n",
              "        text-align: right;\n",
              "    }\n",
              "</style>\n",
              "<table border=\"1\" class=\"dataframe\">\n",
              "  <thead>\n",
              "    <tr style=\"text-align: right;\">\n",
              "      <th></th>\n",
              "      <th>Id</th>\n",
              "      <th>OwnerUserId</th>\n",
              "      <th>CreationDate</th>\n",
              "      <th>Score</th>\n",
              "      <th>Title</th>\n",
              "      <th>Body</th>\n",
              "    </tr>\n",
              "  </thead>\n",
              "  <tbody>\n",
              "    <tr>\n",
              "      <th>0</th>\n",
              "      <td>469</td>\n",
              "      <td>147.0</td>\n",
              "      <td>2008-08-02T15:11:16Z</td>\n",
              "      <td>21</td>\n",
              "      <td>How can I find the full path to a font from it...</td>\n",
              "      <td>&lt;p&gt;I am using the Photoshop's javascript API t...</td>\n",
              "    </tr>\n",
              "    <tr>\n",
              "      <th>1</th>\n",
              "      <td>502</td>\n",
              "      <td>147.0</td>\n",
              "      <td>2008-08-02T17:01:58Z</td>\n",
              "      <td>27</td>\n",
              "      <td>Get a preview JPEG of a PDF on Windows?</td>\n",
              "      <td>&lt;p&gt;I have a cross-platform (Python) applicatio...</td>\n",
              "    </tr>\n",
              "    <tr>\n",
              "      <th>2</th>\n",
              "      <td>535</td>\n",
              "      <td>154.0</td>\n",
              "      <td>2008-08-02T18:43:54Z</td>\n",
              "      <td>40</td>\n",
              "      <td>Continuous Integration System for a Python Cod...</td>\n",
              "      <td>&lt;p&gt;I'm starting work on a hobby project with a...</td>\n",
              "    </tr>\n",
              "    <tr>\n",
              "      <th>3</th>\n",
              "      <td>594</td>\n",
              "      <td>116.0</td>\n",
              "      <td>2008-08-03T01:15:08Z</td>\n",
              "      <td>25</td>\n",
              "      <td>cx_Oracle: How do I iterate over a result set?</td>\n",
              "      <td>&lt;p&gt;There are several ways to iterate over a re...</td>\n",
              "    </tr>\n",
              "    <tr>\n",
              "      <th>4</th>\n",
              "      <td>683</td>\n",
              "      <td>199.0</td>\n",
              "      <td>2008-08-03T13:19:16Z</td>\n",
              "      <td>28</td>\n",
              "      <td>Using 'in' to match an attribute of Python obj...</td>\n",
              "      <td>&lt;p&gt;I don't remember whether I was dreaming or ...</td>\n",
              "    </tr>\n",
              "  </tbody>\n",
              "</table>\n",
              "</div>"
            ],
            "text/plain": [
              "    Id  ...                                               Body\n",
              "0  469  ...  <p>I am using the Photoshop's javascript API t...\n",
              "1  502  ...  <p>I have a cross-platform (Python) applicatio...\n",
              "2  535  ...  <p>I'm starting work on a hobby project with a...\n",
              "3  594  ...  <p>There are several ways to iterate over a re...\n",
              "4  683  ...  <p>I don't remember whether I was dreaming or ...\n",
              "\n",
              "[5 rows x 6 columns]"
            ]
          },
          "metadata": {},
          "execution_count": 9
        }
      ]
    },
    {
      "cell_type": "code",
      "metadata": {
        "colab": {
          "base_uri": "https://localhost:8080/",
          "height": 206
        },
        "id": "zArrHBy8JhbI",
        "outputId": "abd3fd30-a0de-4143-ee23-d09b2815bb51"
      },
      "source": [
        "answers.head()"
      ],
      "execution_count": null,
      "outputs": [
        {
          "output_type": "execute_result",
          "data": {
            "text/html": [
              "<div>\n",
              "<style scoped>\n",
              "    .dataframe tbody tr th:only-of-type {\n",
              "        vertical-align: middle;\n",
              "    }\n",
              "\n",
              "    .dataframe tbody tr th {\n",
              "        vertical-align: top;\n",
              "    }\n",
              "\n",
              "    .dataframe thead th {\n",
              "        text-align: right;\n",
              "    }\n",
              "</style>\n",
              "<table border=\"1\" class=\"dataframe\">\n",
              "  <thead>\n",
              "    <tr style=\"text-align: right;\">\n",
              "      <th></th>\n",
              "      <th>Id</th>\n",
              "      <th>OwnerUserId</th>\n",
              "      <th>CreationDate</th>\n",
              "      <th>ParentId</th>\n",
              "      <th>Score</th>\n",
              "      <th>Body</th>\n",
              "    </tr>\n",
              "  </thead>\n",
              "  <tbody>\n",
              "    <tr>\n",
              "      <th>0</th>\n",
              "      <td>497</td>\n",
              "      <td>50.0</td>\n",
              "      <td>2008-08-02T16:56:53Z</td>\n",
              "      <td>469</td>\n",
              "      <td>4</td>\n",
              "      <td>&lt;p&gt;open up a terminal (Applications-&amp;gt;Utilit...</td>\n",
              "    </tr>\n",
              "    <tr>\n",
              "      <th>1</th>\n",
              "      <td>518</td>\n",
              "      <td>153.0</td>\n",
              "      <td>2008-08-02T17:42:28Z</td>\n",
              "      <td>469</td>\n",
              "      <td>2</td>\n",
              "      <td>&lt;p&gt;I haven't been able to find anything that d...</td>\n",
              "    </tr>\n",
              "    <tr>\n",
              "      <th>2</th>\n",
              "      <td>536</td>\n",
              "      <td>161.0</td>\n",
              "      <td>2008-08-02T18:49:07Z</td>\n",
              "      <td>502</td>\n",
              "      <td>9</td>\n",
              "      <td>&lt;p&gt;You can use ImageMagick's convert utility f...</td>\n",
              "    </tr>\n",
              "    <tr>\n",
              "      <th>3</th>\n",
              "      <td>538</td>\n",
              "      <td>156.0</td>\n",
              "      <td>2008-08-02T18:56:56Z</td>\n",
              "      <td>535</td>\n",
              "      <td>23</td>\n",
              "      <td>&lt;p&gt;One possibility is Hudson.  It's written in...</td>\n",
              "    </tr>\n",
              "    <tr>\n",
              "      <th>4</th>\n",
              "      <td>541</td>\n",
              "      <td>157.0</td>\n",
              "      <td>2008-08-02T19:06:40Z</td>\n",
              "      <td>535</td>\n",
              "      <td>20</td>\n",
              "      <td>&lt;p&gt;We run &lt;a href=\"http://buildbot.net/trac\"&gt;B...</td>\n",
              "    </tr>\n",
              "  </tbody>\n",
              "</table>\n",
              "</div>"
            ],
            "text/plain": [
              "    Id  OwnerUserId  ... Score                                               Body\n",
              "0  497         50.0  ...     4  <p>open up a terminal (Applications-&gt;Utilit...\n",
              "1  518        153.0  ...     2  <p>I haven't been able to find anything that d...\n",
              "2  536        161.0  ...     9  <p>You can use ImageMagick's convert utility f...\n",
              "3  538        156.0  ...    23  <p>One possibility is Hudson.  It's written in...\n",
              "4  541        157.0  ...    20  <p>We run <a href=\"http://buildbot.net/trac\">B...\n",
              "\n",
              "[5 rows x 6 columns]"
            ]
          },
          "metadata": {},
          "execution_count": 10
        }
      ]
    },
    {
      "cell_type": "code",
      "metadata": {
        "colab": {
          "base_uri": "https://localhost:8080/",
          "height": 206
        },
        "id": "4b98-6XBJjv4",
        "outputId": "eb0870bc-54db-4efe-affd-60c36e3972e9"
      },
      "source": [
        "tags.head()"
      ],
      "execution_count": null,
      "outputs": [
        {
          "output_type": "execute_result",
          "data": {
            "text/html": [
              "<div>\n",
              "<style scoped>\n",
              "    .dataframe tbody tr th:only-of-type {\n",
              "        vertical-align: middle;\n",
              "    }\n",
              "\n",
              "    .dataframe tbody tr th {\n",
              "        vertical-align: top;\n",
              "    }\n",
              "\n",
              "    .dataframe thead th {\n",
              "        text-align: right;\n",
              "    }\n",
              "</style>\n",
              "<table border=\"1\" class=\"dataframe\">\n",
              "  <thead>\n",
              "    <tr style=\"text-align: right;\">\n",
              "      <th></th>\n",
              "      <th>Id</th>\n",
              "      <th>Tag</th>\n",
              "    </tr>\n",
              "  </thead>\n",
              "  <tbody>\n",
              "    <tr>\n",
              "      <th>0</th>\n",
              "      <td>469</td>\n",
              "      <td>python</td>\n",
              "    </tr>\n",
              "    <tr>\n",
              "      <th>1</th>\n",
              "      <td>469</td>\n",
              "      <td>osx</td>\n",
              "    </tr>\n",
              "    <tr>\n",
              "      <th>2</th>\n",
              "      <td>469</td>\n",
              "      <td>fonts</td>\n",
              "    </tr>\n",
              "    <tr>\n",
              "      <th>3</th>\n",
              "      <td>469</td>\n",
              "      <td>photoshop</td>\n",
              "    </tr>\n",
              "    <tr>\n",
              "      <th>4</th>\n",
              "      <td>502</td>\n",
              "      <td>python</td>\n",
              "    </tr>\n",
              "  </tbody>\n",
              "</table>\n",
              "</div>"
            ],
            "text/plain": [
              "    Id        Tag\n",
              "0  469     python\n",
              "1  469        osx\n",
              "2  469      fonts\n",
              "3  469  photoshop\n",
              "4  502     python"
            ]
          },
          "metadata": {},
          "execution_count": 11
        }
      ]
    },
    {
      "cell_type": "markdown",
      "metadata": {
        "id": "5e8rt9TFU-9U"
      },
      "source": [
        "# **Data Preprocessing**"
      ]
    },
    {
      "cell_type": "markdown",
      "metadata": {
        "id": "hwJqfWjDVF3M"
      },
      "source": [
        "### **A. Merging The Datasets**"
      ]
    },
    {
      "cell_type": "markdown",
      "metadata": {
        "id": "n4nJ602-Yb81"
      },
      "source": [
        "#### **1. 'Questions' Dataset**"
      ]
    },
    {
      "cell_type": "code",
      "metadata": {
        "id": "6dLEoWEkYhAn"
      },
      "source": [
        "# Rename column names\n",
        "questions.columns=['Id', 'OwnerUserId',\t'CreationDate',\t'Score',\t'Title', 'Question']"
      ],
      "execution_count": null,
      "outputs": []
    },
    {
      "cell_type": "code",
      "metadata": {
        "colab": {
          "base_uri": "https://localhost:8080/",
          "height": 206
        },
        "id": "mMMVCX9dZ3VJ",
        "outputId": "e4e672a8-cd30-43e7-8f61-7d4b580dd959"
      },
      "source": [
        "questions.head()"
      ],
      "execution_count": null,
      "outputs": [
        {
          "output_type": "execute_result",
          "data": {
            "text/html": [
              "<div>\n",
              "<style scoped>\n",
              "    .dataframe tbody tr th:only-of-type {\n",
              "        vertical-align: middle;\n",
              "    }\n",
              "\n",
              "    .dataframe tbody tr th {\n",
              "        vertical-align: top;\n",
              "    }\n",
              "\n",
              "    .dataframe thead th {\n",
              "        text-align: right;\n",
              "    }\n",
              "</style>\n",
              "<table border=\"1\" class=\"dataframe\">\n",
              "  <thead>\n",
              "    <tr style=\"text-align: right;\">\n",
              "      <th></th>\n",
              "      <th>Id</th>\n",
              "      <th>OwnerUserId</th>\n",
              "      <th>CreationDate</th>\n",
              "      <th>Score</th>\n",
              "      <th>Title</th>\n",
              "      <th>Question</th>\n",
              "    </tr>\n",
              "  </thead>\n",
              "  <tbody>\n",
              "    <tr>\n",
              "      <th>0</th>\n",
              "      <td>469</td>\n",
              "      <td>147.0</td>\n",
              "      <td>2008-08-02T15:11:16Z</td>\n",
              "      <td>21</td>\n",
              "      <td>How can I find the full path to a font from it...</td>\n",
              "      <td>&lt;p&gt;I am using the Photoshop's javascript API t...</td>\n",
              "    </tr>\n",
              "    <tr>\n",
              "      <th>1</th>\n",
              "      <td>502</td>\n",
              "      <td>147.0</td>\n",
              "      <td>2008-08-02T17:01:58Z</td>\n",
              "      <td>27</td>\n",
              "      <td>Get a preview JPEG of a PDF on Windows?</td>\n",
              "      <td>&lt;p&gt;I have a cross-platform (Python) applicatio...</td>\n",
              "    </tr>\n",
              "    <tr>\n",
              "      <th>2</th>\n",
              "      <td>535</td>\n",
              "      <td>154.0</td>\n",
              "      <td>2008-08-02T18:43:54Z</td>\n",
              "      <td>40</td>\n",
              "      <td>Continuous Integration System for a Python Cod...</td>\n",
              "      <td>&lt;p&gt;I'm starting work on a hobby project with a...</td>\n",
              "    </tr>\n",
              "    <tr>\n",
              "      <th>3</th>\n",
              "      <td>594</td>\n",
              "      <td>116.0</td>\n",
              "      <td>2008-08-03T01:15:08Z</td>\n",
              "      <td>25</td>\n",
              "      <td>cx_Oracle: How do I iterate over a result set?</td>\n",
              "      <td>&lt;p&gt;There are several ways to iterate over a re...</td>\n",
              "    </tr>\n",
              "    <tr>\n",
              "      <th>4</th>\n",
              "      <td>683</td>\n",
              "      <td>199.0</td>\n",
              "      <td>2008-08-03T13:19:16Z</td>\n",
              "      <td>28</td>\n",
              "      <td>Using 'in' to match an attribute of Python obj...</td>\n",
              "      <td>&lt;p&gt;I don't remember whether I was dreaming or ...</td>\n",
              "    </tr>\n",
              "  </tbody>\n",
              "</table>\n",
              "</div>"
            ],
            "text/plain": [
              "    Id  ...                                           Question\n",
              "0  469  ...  <p>I am using the Photoshop's javascript API t...\n",
              "1  502  ...  <p>I have a cross-platform (Python) applicatio...\n",
              "2  535  ...  <p>I'm starting work on a hobby project with a...\n",
              "3  594  ...  <p>There are several ways to iterate over a re...\n",
              "4  683  ...  <p>I don't remember whether I was dreaming or ...\n",
              "\n",
              "[5 rows x 6 columns]"
            ]
          },
          "metadata": {},
          "execution_count": 13
        }
      ]
    },
    {
      "cell_type": "markdown",
      "metadata": {
        "id": "uyXHS-KSVbYd"
      },
      "source": [
        "#### **2. 'Answers' Dataset**"
      ]
    },
    {
      "cell_type": "code",
      "metadata": {
        "id": "48gbJA6bTPOU"
      },
      "source": [
        "# Dropping unecessary columns\n",
        "answers.drop(columns=['Id', 'OwnerUserId', 'CreationDate'], inplace=True)\n",
        "\n",
        "# Rename column names\n",
        "answers.columns=['Id', 'Score', 'Answer']"
      ],
      "execution_count": null,
      "outputs": []
    },
    {
      "cell_type": "code",
      "metadata": {
        "id": "Q8pEZwPaUBAE"
      },
      "source": [
        "# Joining answers grouped by 'Id'\n",
        "grouped_answers = answers.groupby('Id')['Answer'].apply(lambda answer: ' '.join(answer))\n",
        "grouped_answers = grouped_answers.to_frame().reset_index()"
      ],
      "execution_count": null,
      "outputs": []
    },
    {
      "cell_type": "code",
      "metadata": {
        "colab": {
          "base_uri": "https://localhost:8080/",
          "height": 206
        },
        "id": "cFYpcVZvUZOY",
        "outputId": "77ad12e3-5c35-486e-e629-ed8bfeb40575"
      },
      "source": [
        "grouped_answers.head()"
      ],
      "execution_count": null,
      "outputs": [
        {
          "output_type": "execute_result",
          "data": {
            "text/html": [
              "<div>\n",
              "<style scoped>\n",
              "    .dataframe tbody tr th:only-of-type {\n",
              "        vertical-align: middle;\n",
              "    }\n",
              "\n",
              "    .dataframe tbody tr th {\n",
              "        vertical-align: top;\n",
              "    }\n",
              "\n",
              "    .dataframe thead th {\n",
              "        text-align: right;\n",
              "    }\n",
              "</style>\n",
              "<table border=\"1\" class=\"dataframe\">\n",
              "  <thead>\n",
              "    <tr style=\"text-align: right;\">\n",
              "      <th></th>\n",
              "      <th>Id</th>\n",
              "      <th>Answer</th>\n",
              "    </tr>\n",
              "  </thead>\n",
              "  <tbody>\n",
              "    <tr>\n",
              "      <th>0</th>\n",
              "      <td>469</td>\n",
              "      <td>&lt;p&gt;open up a terminal (Applications-&amp;gt;Utilit...</td>\n",
              "    </tr>\n",
              "    <tr>\n",
              "      <th>1</th>\n",
              "      <td>502</td>\n",
              "      <td>&lt;p&gt;You can use ImageMagick's convert utility f...</td>\n",
              "    </tr>\n",
              "    <tr>\n",
              "      <th>2</th>\n",
              "      <td>535</td>\n",
              "      <td>&lt;p&gt;One possibility is Hudson.  It's written in...</td>\n",
              "    </tr>\n",
              "    <tr>\n",
              "      <th>3</th>\n",
              "      <td>594</td>\n",
              "      <td>&lt;p&gt;The canonical way is to use the built-in cu...</td>\n",
              "    </tr>\n",
              "    <tr>\n",
              "      <th>4</th>\n",
              "      <td>683</td>\n",
              "      <td>&lt;p&gt;No, you were not dreaming.  Python has a pr...</td>\n",
              "    </tr>\n",
              "  </tbody>\n",
              "</table>\n",
              "</div>"
            ],
            "text/plain": [
              "    Id                                             Answer\n",
              "0  469  <p>open up a terminal (Applications-&gt;Utilit...\n",
              "1  502  <p>You can use ImageMagick's convert utility f...\n",
              "2  535  <p>One possibility is Hudson.  It's written in...\n",
              "3  594  <p>The canonical way is to use the built-in cu...\n",
              "4  683  <p>No, you were not dreaming.  Python has a pr..."
            ]
          },
          "metadata": {},
          "execution_count": 16
        }
      ]
    },
    {
      "cell_type": "markdown",
      "metadata": {
        "id": "G1CXpf-oVgsA"
      },
      "source": [
        "#### **3. 'Tags' Dataset**"
      ]
    },
    {
      "cell_type": "code",
      "metadata": {
        "id": "hNk0x_PRSNzy"
      },
      "source": [
        "# Changing the data type of 'Tag' column to string\n",
        "tags['Tag']= tags['Tag'].astype(str)\n",
        "\n",
        "# Joining tags grouped by 'Id'\n",
        "grouped_tags = tags.groupby('Id')['Tag'].apply(lambda tag: ' '.join(tag))\n",
        "grouped_tags = grouped_tags.to_frame().reset_index()"
      ],
      "execution_count": null,
      "outputs": []
    },
    {
      "cell_type": "code",
      "metadata": {
        "colab": {
          "base_uri": "https://localhost:8080/",
          "height": 206
        },
        "id": "MmcM8LVxWdQ2",
        "outputId": "5f4aa8ae-4483-48aa-9f53-49606a0efde3"
      },
      "source": [
        "grouped_tags.head()"
      ],
      "execution_count": null,
      "outputs": [
        {
          "output_type": "execute_result",
          "data": {
            "text/html": [
              "<div>\n",
              "<style scoped>\n",
              "    .dataframe tbody tr th:only-of-type {\n",
              "        vertical-align: middle;\n",
              "    }\n",
              "\n",
              "    .dataframe tbody tr th {\n",
              "        vertical-align: top;\n",
              "    }\n",
              "\n",
              "    .dataframe thead th {\n",
              "        text-align: right;\n",
              "    }\n",
              "</style>\n",
              "<table border=\"1\" class=\"dataframe\">\n",
              "  <thead>\n",
              "    <tr style=\"text-align: right;\">\n",
              "      <th></th>\n",
              "      <th>Id</th>\n",
              "      <th>Tag</th>\n",
              "    </tr>\n",
              "  </thead>\n",
              "  <tbody>\n",
              "    <tr>\n",
              "      <th>0</th>\n",
              "      <td>469</td>\n",
              "      <td>python osx fonts photoshop</td>\n",
              "    </tr>\n",
              "    <tr>\n",
              "      <th>1</th>\n",
              "      <td>502</td>\n",
              "      <td>python windows image pdf</td>\n",
              "    </tr>\n",
              "    <tr>\n",
              "      <th>2</th>\n",
              "      <td>535</td>\n",
              "      <td>python continuous-integration extreme-programming</td>\n",
              "    </tr>\n",
              "    <tr>\n",
              "      <th>3</th>\n",
              "      <td>594</td>\n",
              "      <td>python sql database oracle cx-oracle</td>\n",
              "    </tr>\n",
              "    <tr>\n",
              "      <th>4</th>\n",
              "      <td>683</td>\n",
              "      <td>python arrays iteration</td>\n",
              "    </tr>\n",
              "  </tbody>\n",
              "</table>\n",
              "</div>"
            ],
            "text/plain": [
              "    Id                                                Tag\n",
              "0  469                         python osx fonts photoshop\n",
              "1  502                           python windows image pdf\n",
              "2  535  python continuous-integration extreme-programming\n",
              "3  594               python sql database oracle cx-oracle\n",
              "4  683                            python arrays iteration"
            ]
          },
          "metadata": {},
          "execution_count": 18
        }
      ]
    },
    {
      "cell_type": "markdown",
      "metadata": {
        "id": "52holSQnaAeb"
      },
      "source": [
        "#### **4. Merging to a Single Dataset**"
      ]
    },
    {
      "cell_type": "code",
      "metadata": {
        "id": "_jktxk8ZaF98"
      },
      "source": [
        "# Merging 'Questions' dataframe with 'Answers' dataframe, then with 'Tags' dataframe \n",
        "df = questions.merge(grouped_answers, how='left', on='Id')\n",
        "df = df.merge(grouped_tags, how='left', on='Id')"
      ],
      "execution_count": null,
      "outputs": []
    },
    {
      "cell_type": "code",
      "metadata": {
        "colab": {
          "base_uri": "https://localhost:8080/",
          "height": 362
        },
        "id": "xRUA-WdhbMnF",
        "outputId": "66bdd779-dc16-41cd-f4c1-a5ae8170cc31"
      },
      "source": [
        "df.head()"
      ],
      "execution_count": null,
      "outputs": [
        {
          "output_type": "execute_result",
          "data": {
            "text/html": [
              "<div>\n",
              "<style scoped>\n",
              "    .dataframe tbody tr th:only-of-type {\n",
              "        vertical-align: middle;\n",
              "    }\n",
              "\n",
              "    .dataframe tbody tr th {\n",
              "        vertical-align: top;\n",
              "    }\n",
              "\n",
              "    .dataframe thead th {\n",
              "        text-align: right;\n",
              "    }\n",
              "</style>\n",
              "<table border=\"1\" class=\"dataframe\">\n",
              "  <thead>\n",
              "    <tr style=\"text-align: right;\">\n",
              "      <th></th>\n",
              "      <th>Id</th>\n",
              "      <th>OwnerUserId</th>\n",
              "      <th>CreationDate</th>\n",
              "      <th>Score</th>\n",
              "      <th>Title</th>\n",
              "      <th>Question</th>\n",
              "      <th>Answer</th>\n",
              "      <th>Tag</th>\n",
              "    </tr>\n",
              "  </thead>\n",
              "  <tbody>\n",
              "    <tr>\n",
              "      <th>0</th>\n",
              "      <td>469</td>\n",
              "      <td>147.0</td>\n",
              "      <td>2008-08-02T15:11:16Z</td>\n",
              "      <td>21</td>\n",
              "      <td>How can I find the full path to a font from it...</td>\n",
              "      <td>&lt;p&gt;I am using the Photoshop's javascript API t...</td>\n",
              "      <td>&lt;p&gt;open up a terminal (Applications-&amp;gt;Utilit...</td>\n",
              "      <td>python osx fonts photoshop</td>\n",
              "    </tr>\n",
              "    <tr>\n",
              "      <th>1</th>\n",
              "      <td>502</td>\n",
              "      <td>147.0</td>\n",
              "      <td>2008-08-02T17:01:58Z</td>\n",
              "      <td>27</td>\n",
              "      <td>Get a preview JPEG of a PDF on Windows?</td>\n",
              "      <td>&lt;p&gt;I have a cross-platform (Python) applicatio...</td>\n",
              "      <td>&lt;p&gt;You can use ImageMagick's convert utility f...</td>\n",
              "      <td>python windows image pdf</td>\n",
              "    </tr>\n",
              "    <tr>\n",
              "      <th>2</th>\n",
              "      <td>535</td>\n",
              "      <td>154.0</td>\n",
              "      <td>2008-08-02T18:43:54Z</td>\n",
              "      <td>40</td>\n",
              "      <td>Continuous Integration System for a Python Cod...</td>\n",
              "      <td>&lt;p&gt;I'm starting work on a hobby project with a...</td>\n",
              "      <td>&lt;p&gt;One possibility is Hudson.  It's written in...</td>\n",
              "      <td>python continuous-integration extreme-programming</td>\n",
              "    </tr>\n",
              "    <tr>\n",
              "      <th>3</th>\n",
              "      <td>594</td>\n",
              "      <td>116.0</td>\n",
              "      <td>2008-08-03T01:15:08Z</td>\n",
              "      <td>25</td>\n",
              "      <td>cx_Oracle: How do I iterate over a result set?</td>\n",
              "      <td>&lt;p&gt;There are several ways to iterate over a re...</td>\n",
              "      <td>&lt;p&gt;The canonical way is to use the built-in cu...</td>\n",
              "      <td>python sql database oracle cx-oracle</td>\n",
              "    </tr>\n",
              "    <tr>\n",
              "      <th>4</th>\n",
              "      <td>683</td>\n",
              "      <td>199.0</td>\n",
              "      <td>2008-08-03T13:19:16Z</td>\n",
              "      <td>28</td>\n",
              "      <td>Using 'in' to match an attribute of Python obj...</td>\n",
              "      <td>&lt;p&gt;I don't remember whether I was dreaming or ...</td>\n",
              "      <td>&lt;p&gt;No, you were not dreaming.  Python has a pr...</td>\n",
              "      <td>python arrays iteration</td>\n",
              "    </tr>\n",
              "  </tbody>\n",
              "</table>\n",
              "</div>"
            ],
            "text/plain": [
              "    Id  ...                                                Tag\n",
              "0  469  ...                         python osx fonts photoshop\n",
              "1  502  ...                           python windows image pdf\n",
              "2  535  ...  python continuous-integration extreme-programming\n",
              "3  594  ...               python sql database oracle cx-oracle\n",
              "4  683  ...                            python arrays iteration\n",
              "\n",
              "[5 rows x 8 columns]"
            ]
          },
          "metadata": {},
          "execution_count": 20
        }
      ]
    },
    {
      "cell_type": "code",
      "metadata": {
        "id": "N574oP5tbO2J"
      },
      "source": [
        "df.drop(columns=['Id', 'OwnerUserId', 'CreationDate'], inplace=True)"
      ],
      "execution_count": null,
      "outputs": []
    },
    {
      "cell_type": "code",
      "metadata": {
        "colab": {
          "base_uri": "https://localhost:8080/",
          "height": 293
        },
        "id": "jsehkvDybh9z",
        "outputId": "18c276d1-2ac5-4708-b257-7e5fbe1e73ec"
      },
      "source": [
        "df.head()"
      ],
      "execution_count": null,
      "outputs": [
        {
          "output_type": "execute_result",
          "data": {
            "text/html": [
              "<div>\n",
              "<style scoped>\n",
              "    .dataframe tbody tr th:only-of-type {\n",
              "        vertical-align: middle;\n",
              "    }\n",
              "\n",
              "    .dataframe tbody tr th {\n",
              "        vertical-align: top;\n",
              "    }\n",
              "\n",
              "    .dataframe thead th {\n",
              "        text-align: right;\n",
              "    }\n",
              "</style>\n",
              "<table border=\"1\" class=\"dataframe\">\n",
              "  <thead>\n",
              "    <tr style=\"text-align: right;\">\n",
              "      <th></th>\n",
              "      <th>Score</th>\n",
              "      <th>Title</th>\n",
              "      <th>Question</th>\n",
              "      <th>Answer</th>\n",
              "      <th>Tag</th>\n",
              "    </tr>\n",
              "  </thead>\n",
              "  <tbody>\n",
              "    <tr>\n",
              "      <th>0</th>\n",
              "      <td>21</td>\n",
              "      <td>How can I find the full path to a font from it...</td>\n",
              "      <td>&lt;p&gt;I am using the Photoshop's javascript API t...</td>\n",
              "      <td>&lt;p&gt;open up a terminal (Applications-&amp;gt;Utilit...</td>\n",
              "      <td>python osx fonts photoshop</td>\n",
              "    </tr>\n",
              "    <tr>\n",
              "      <th>1</th>\n",
              "      <td>27</td>\n",
              "      <td>Get a preview JPEG of a PDF on Windows?</td>\n",
              "      <td>&lt;p&gt;I have a cross-platform (Python) applicatio...</td>\n",
              "      <td>&lt;p&gt;You can use ImageMagick's convert utility f...</td>\n",
              "      <td>python windows image pdf</td>\n",
              "    </tr>\n",
              "    <tr>\n",
              "      <th>2</th>\n",
              "      <td>40</td>\n",
              "      <td>Continuous Integration System for a Python Cod...</td>\n",
              "      <td>&lt;p&gt;I'm starting work on a hobby project with a...</td>\n",
              "      <td>&lt;p&gt;One possibility is Hudson.  It's written in...</td>\n",
              "      <td>python continuous-integration extreme-programming</td>\n",
              "    </tr>\n",
              "    <tr>\n",
              "      <th>3</th>\n",
              "      <td>25</td>\n",
              "      <td>cx_Oracle: How do I iterate over a result set?</td>\n",
              "      <td>&lt;p&gt;There are several ways to iterate over a re...</td>\n",
              "      <td>&lt;p&gt;The canonical way is to use the built-in cu...</td>\n",
              "      <td>python sql database oracle cx-oracle</td>\n",
              "    </tr>\n",
              "    <tr>\n",
              "      <th>4</th>\n",
              "      <td>28</td>\n",
              "      <td>Using 'in' to match an attribute of Python obj...</td>\n",
              "      <td>&lt;p&gt;I don't remember whether I was dreaming or ...</td>\n",
              "      <td>&lt;p&gt;No, you were not dreaming.  Python has a pr...</td>\n",
              "      <td>python arrays iteration</td>\n",
              "    </tr>\n",
              "  </tbody>\n",
              "</table>\n",
              "</div>"
            ],
            "text/plain": [
              "   Score  ...                                                Tag\n",
              "0     21  ...                         python osx fonts photoshop\n",
              "1     27  ...                           python windows image pdf\n",
              "2     40  ...  python continuous-integration extreme-programming\n",
              "3     25  ...               python sql database oracle cx-oracle\n",
              "4     28  ...                            python arrays iteration\n",
              "\n",
              "[5 rows x 5 columns]"
            ]
          },
          "metadata": {},
          "execution_count": 22
        }
      ]
    },
    {
      "cell_type": "markdown",
      "metadata": {
        "id": "g1vZP8_ScM7_"
      },
      "source": [
        "### **B. Filtering Dataset Based on 'Score' Column and Most Frequently Used Tags**"
      ]
    },
    {
      "cell_type": "code",
      "metadata": {
        "id": "ro4igpthcrv2"
      },
      "source": [
        "# Renaming column names\n",
        "df.columns = ['score', 'title', 'question', 'answer', 'tag']"
      ],
      "execution_count": null,
      "outputs": []
    },
    {
      "cell_type": "code",
      "metadata": {
        "colab": {
          "base_uri": "https://localhost:8080/",
          "height": 293
        },
        "id": "Pf4A4we0iEyE",
        "outputId": "71a62f8a-3179-4de0-ebd4-da5f16773b74"
      },
      "source": [
        "df.head()"
      ],
      "execution_count": null,
      "outputs": [
        {
          "output_type": "execute_result",
          "data": {
            "text/html": [
              "<div>\n",
              "<style scoped>\n",
              "    .dataframe tbody tr th:only-of-type {\n",
              "        vertical-align: middle;\n",
              "    }\n",
              "\n",
              "    .dataframe tbody tr th {\n",
              "        vertical-align: top;\n",
              "    }\n",
              "\n",
              "    .dataframe thead th {\n",
              "        text-align: right;\n",
              "    }\n",
              "</style>\n",
              "<table border=\"1\" class=\"dataframe\">\n",
              "  <thead>\n",
              "    <tr style=\"text-align: right;\">\n",
              "      <th></th>\n",
              "      <th>score</th>\n",
              "      <th>title</th>\n",
              "      <th>question</th>\n",
              "      <th>answer</th>\n",
              "      <th>tag</th>\n",
              "    </tr>\n",
              "  </thead>\n",
              "  <tbody>\n",
              "    <tr>\n",
              "      <th>0</th>\n",
              "      <td>21</td>\n",
              "      <td>How can I find the full path to a font from it...</td>\n",
              "      <td>&lt;p&gt;I am using the Photoshop's javascript API t...</td>\n",
              "      <td>&lt;p&gt;open up a terminal (Applications-&amp;gt;Utilit...</td>\n",
              "      <td>python osx fonts photoshop</td>\n",
              "    </tr>\n",
              "    <tr>\n",
              "      <th>1</th>\n",
              "      <td>27</td>\n",
              "      <td>Get a preview JPEG of a PDF on Windows?</td>\n",
              "      <td>&lt;p&gt;I have a cross-platform (Python) applicatio...</td>\n",
              "      <td>&lt;p&gt;You can use ImageMagick's convert utility f...</td>\n",
              "      <td>python windows image pdf</td>\n",
              "    </tr>\n",
              "    <tr>\n",
              "      <th>2</th>\n",
              "      <td>40</td>\n",
              "      <td>Continuous Integration System for a Python Cod...</td>\n",
              "      <td>&lt;p&gt;I'm starting work on a hobby project with a...</td>\n",
              "      <td>&lt;p&gt;One possibility is Hudson.  It's written in...</td>\n",
              "      <td>python continuous-integration extreme-programming</td>\n",
              "    </tr>\n",
              "    <tr>\n",
              "      <th>3</th>\n",
              "      <td>25</td>\n",
              "      <td>cx_Oracle: How do I iterate over a result set?</td>\n",
              "      <td>&lt;p&gt;There are several ways to iterate over a re...</td>\n",
              "      <td>&lt;p&gt;The canonical way is to use the built-in cu...</td>\n",
              "      <td>python sql database oracle cx-oracle</td>\n",
              "    </tr>\n",
              "    <tr>\n",
              "      <th>4</th>\n",
              "      <td>28</td>\n",
              "      <td>Using 'in' to match an attribute of Python obj...</td>\n",
              "      <td>&lt;p&gt;I don't remember whether I was dreaming or ...</td>\n",
              "      <td>&lt;p&gt;No, you were not dreaming.  Python has a pr...</td>\n",
              "      <td>python arrays iteration</td>\n",
              "    </tr>\n",
              "  </tbody>\n",
              "</table>\n",
              "</div>"
            ],
            "text/plain": [
              "   score  ...                                                tag\n",
              "0     21  ...                         python osx fonts photoshop\n",
              "1     27  ...                           python windows image pdf\n",
              "2     40  ...  python continuous-integration extreme-programming\n",
              "3     25  ...               python sql database oracle cx-oracle\n",
              "4     28  ...                            python arrays iteration\n",
              "\n",
              "[5 rows x 5 columns]"
            ]
          },
          "metadata": {},
          "execution_count": 24
        }
      ]
    },
    {
      "cell_type": "code",
      "metadata": {
        "id": "I8b4nrLLcYwN"
      },
      "source": [
        "# Creating 'tag_count' column\n",
        "temp_df = df.groupby('tag')['tag'].count()\n",
        "temp_df = temp_df.to_frame()\n",
        "temp_df.columns = ['tag_count']\n",
        "temp_df = temp_df.reset_index()"
      ],
      "execution_count": null,
      "outputs": []
    },
    {
      "cell_type": "code",
      "metadata": {
        "colab": {
          "base_uri": "https://localhost:8080/",
          "height": 206
        },
        "id": "cfidvgyYkZfl",
        "outputId": "b7b6c6a8-4b6f-4f1a-d35a-0efe8aa2a1c2"
      },
      "source": [
        "temp_df.sort_values('tag_count', ascending=False).head()"
      ],
      "execution_count": null,
      "outputs": [
        {
          "output_type": "execute_result",
          "data": {
            "text/html": [
              "<div>\n",
              "<style scoped>\n",
              "    .dataframe tbody tr th:only-of-type {\n",
              "        vertical-align: middle;\n",
              "    }\n",
              "\n",
              "    .dataframe tbody tr th {\n",
              "        vertical-align: top;\n",
              "    }\n",
              "\n",
              "    .dataframe thead th {\n",
              "        text-align: right;\n",
              "    }\n",
              "</style>\n",
              "<table border=\"1\" class=\"dataframe\">\n",
              "  <thead>\n",
              "    <tr style=\"text-align: right;\">\n",
              "      <th></th>\n",
              "      <th>tag</th>\n",
              "      <th>tag_count</th>\n",
              "    </tr>\n",
              "  </thead>\n",
              "  <tbody>\n",
              "    <tr>\n",
              "      <th>12278</th>\n",
              "      <td>python</td>\n",
              "      <td>43290</td>\n",
              "    </tr>\n",
              "    <tr>\n",
              "      <th>50516</th>\n",
              "      <td>python django</td>\n",
              "      <td>11910</td>\n",
              "    </tr>\n",
              "    <tr>\n",
              "      <th>154008</th>\n",
              "      <td>python pandas</td>\n",
              "      <td>8603</td>\n",
              "    </tr>\n",
              "    <tr>\n",
              "      <th>189825</th>\n",
              "      <td>python regex</td>\n",
              "      <td>6192</td>\n",
              "    </tr>\n",
              "    <tr>\n",
              "      <th>169519</th>\n",
              "      <td>python python-2.7</td>\n",
              "      <td>6002</td>\n",
              "    </tr>\n",
              "  </tbody>\n",
              "</table>\n",
              "</div>"
            ],
            "text/plain": [
              "                      tag  tag_count\n",
              "12278              python      43290\n",
              "50516       python django      11910\n",
              "154008      python pandas       8603\n",
              "189825       python regex       6192\n",
              "169519  python python-2.7       6002"
            ]
          },
          "metadata": {},
          "execution_count": 26
        }
      ]
    },
    {
      "cell_type": "code",
      "metadata": {
        "id": "N_GEpZaGe0hp"
      },
      "source": [
        "# Merging created column to the existing dataframe\n",
        "df= pd.merge(df, temp_df, how='left', on='tag')"
      ],
      "execution_count": null,
      "outputs": []
    },
    {
      "cell_type": "code",
      "metadata": {
        "colab": {
          "base_uri": "https://localhost:8080/",
          "height": 293
        },
        "id": "QruXvY3hc-yN",
        "outputId": "65228501-68e4-4fb7-c553-0cfbda6c4e86"
      },
      "source": [
        "df.head()"
      ],
      "execution_count": null,
      "outputs": [
        {
          "output_type": "execute_result",
          "data": {
            "text/html": [
              "<div>\n",
              "<style scoped>\n",
              "    .dataframe tbody tr th:only-of-type {\n",
              "        vertical-align: middle;\n",
              "    }\n",
              "\n",
              "    .dataframe tbody tr th {\n",
              "        vertical-align: top;\n",
              "    }\n",
              "\n",
              "    .dataframe thead th {\n",
              "        text-align: right;\n",
              "    }\n",
              "</style>\n",
              "<table border=\"1\" class=\"dataframe\">\n",
              "  <thead>\n",
              "    <tr style=\"text-align: right;\">\n",
              "      <th></th>\n",
              "      <th>score</th>\n",
              "      <th>title</th>\n",
              "      <th>question</th>\n",
              "      <th>answer</th>\n",
              "      <th>tag</th>\n",
              "      <th>tag_count</th>\n",
              "    </tr>\n",
              "  </thead>\n",
              "  <tbody>\n",
              "    <tr>\n",
              "      <th>0</th>\n",
              "      <td>21</td>\n",
              "      <td>How can I find the full path to a font from it...</td>\n",
              "      <td>&lt;p&gt;I am using the Photoshop's javascript API t...</td>\n",
              "      <td>&lt;p&gt;open up a terminal (Applications-&amp;gt;Utilit...</td>\n",
              "      <td>python osx fonts photoshop</td>\n",
              "      <td>1</td>\n",
              "    </tr>\n",
              "    <tr>\n",
              "      <th>1</th>\n",
              "      <td>27</td>\n",
              "      <td>Get a preview JPEG of a PDF on Windows?</td>\n",
              "      <td>&lt;p&gt;I have a cross-platform (Python) applicatio...</td>\n",
              "      <td>&lt;p&gt;You can use ImageMagick's convert utility f...</td>\n",
              "      <td>python windows image pdf</td>\n",
              "      <td>1</td>\n",
              "    </tr>\n",
              "    <tr>\n",
              "      <th>2</th>\n",
              "      <td>40</td>\n",
              "      <td>Continuous Integration System for a Python Cod...</td>\n",
              "      <td>&lt;p&gt;I'm starting work on a hobby project with a...</td>\n",
              "      <td>&lt;p&gt;One possibility is Hudson.  It's written in...</td>\n",
              "      <td>python continuous-integration extreme-programming</td>\n",
              "      <td>1</td>\n",
              "    </tr>\n",
              "    <tr>\n",
              "      <th>3</th>\n",
              "      <td>25</td>\n",
              "      <td>cx_Oracle: How do I iterate over a result set?</td>\n",
              "      <td>&lt;p&gt;There are several ways to iterate over a re...</td>\n",
              "      <td>&lt;p&gt;The canonical way is to use the built-in cu...</td>\n",
              "      <td>python sql database oracle cx-oracle</td>\n",
              "      <td>2</td>\n",
              "    </tr>\n",
              "    <tr>\n",
              "      <th>4</th>\n",
              "      <td>28</td>\n",
              "      <td>Using 'in' to match an attribute of Python obj...</td>\n",
              "      <td>&lt;p&gt;I don't remember whether I was dreaming or ...</td>\n",
              "      <td>&lt;p&gt;No, you were not dreaming.  Python has a pr...</td>\n",
              "      <td>python arrays iteration</td>\n",
              "      <td>4</td>\n",
              "    </tr>\n",
              "  </tbody>\n",
              "</table>\n",
              "</div>"
            ],
            "text/plain": [
              "   score  ... tag_count\n",
              "0     21  ...         1\n",
              "1     27  ...         1\n",
              "2     40  ...         1\n",
              "3     25  ...         2\n",
              "4     28  ...         4\n",
              "\n",
              "[5 rows x 6 columns]"
            ]
          },
          "metadata": {},
          "execution_count": 28
        }
      ]
    },
    {
      "cell_type": "code",
      "metadata": {
        "id": "3T0vzxqUf2MW",
        "colab": {
          "base_uri": "https://localhost:8080/",
          "height": 536
        },
        "outputId": "9a1a2138-00e8-4007-9386-a96bc329bf65"
      },
      "source": [
        "df.head(10)"
      ],
      "execution_count": null,
      "outputs": [
        {
          "output_type": "execute_result",
          "data": {
            "text/html": [
              "<div>\n",
              "<style scoped>\n",
              "    .dataframe tbody tr th:only-of-type {\n",
              "        vertical-align: middle;\n",
              "    }\n",
              "\n",
              "    .dataframe tbody tr th {\n",
              "        vertical-align: top;\n",
              "    }\n",
              "\n",
              "    .dataframe thead th {\n",
              "        text-align: right;\n",
              "    }\n",
              "</style>\n",
              "<table border=\"1\" class=\"dataframe\">\n",
              "  <thead>\n",
              "    <tr style=\"text-align: right;\">\n",
              "      <th></th>\n",
              "      <th>score</th>\n",
              "      <th>title</th>\n",
              "      <th>question</th>\n",
              "      <th>answer</th>\n",
              "      <th>tag</th>\n",
              "      <th>tag_count</th>\n",
              "    </tr>\n",
              "  </thead>\n",
              "  <tbody>\n",
              "    <tr>\n",
              "      <th>0</th>\n",
              "      <td>21</td>\n",
              "      <td>How can I find the full path to a font from it...</td>\n",
              "      <td>&lt;p&gt;I am using the Photoshop's javascript API t...</td>\n",
              "      <td>&lt;p&gt;open up a terminal (Applications-&amp;gt;Utilit...</td>\n",
              "      <td>python osx fonts photoshop</td>\n",
              "      <td>1</td>\n",
              "    </tr>\n",
              "    <tr>\n",
              "      <th>1</th>\n",
              "      <td>27</td>\n",
              "      <td>Get a preview JPEG of a PDF on Windows?</td>\n",
              "      <td>&lt;p&gt;I have a cross-platform (Python) applicatio...</td>\n",
              "      <td>&lt;p&gt;You can use ImageMagick's convert utility f...</td>\n",
              "      <td>python windows image pdf</td>\n",
              "      <td>1</td>\n",
              "    </tr>\n",
              "    <tr>\n",
              "      <th>2</th>\n",
              "      <td>40</td>\n",
              "      <td>Continuous Integration System for a Python Cod...</td>\n",
              "      <td>&lt;p&gt;I'm starting work on a hobby project with a...</td>\n",
              "      <td>&lt;p&gt;One possibility is Hudson.  It's written in...</td>\n",
              "      <td>python continuous-integration extreme-programming</td>\n",
              "      <td>1</td>\n",
              "    </tr>\n",
              "    <tr>\n",
              "      <th>3</th>\n",
              "      <td>25</td>\n",
              "      <td>cx_Oracle: How do I iterate over a result set?</td>\n",
              "      <td>&lt;p&gt;There are several ways to iterate over a re...</td>\n",
              "      <td>&lt;p&gt;The canonical way is to use the built-in cu...</td>\n",
              "      <td>python sql database oracle cx-oracle</td>\n",
              "      <td>2</td>\n",
              "    </tr>\n",
              "    <tr>\n",
              "      <th>4</th>\n",
              "      <td>28</td>\n",
              "      <td>Using 'in' to match an attribute of Python obj...</td>\n",
              "      <td>&lt;p&gt;I don't remember whether I was dreaming or ...</td>\n",
              "      <td>&lt;p&gt;No, you were not dreaming.  Python has a pr...</td>\n",
              "      <td>python arrays iteration</td>\n",
              "      <td>4</td>\n",
              "    </tr>\n",
              "    <tr>\n",
              "      <th>5</th>\n",
              "      <td>30</td>\n",
              "      <td>Class views in Django</td>\n",
              "      <td>&lt;p&gt;&lt;a href=\"http://www.djangoproject.com/\"&gt;Dja...</td>\n",
              "      <td>&lt;p&gt;Sounds to me like you're trying to combine ...</td>\n",
              "      <td>python django views oop</td>\n",
              "      <td>1</td>\n",
              "    </tr>\n",
              "    <tr>\n",
              "      <th>6</th>\n",
              "      <td>20</td>\n",
              "      <td>Python and MySQL</td>\n",
              "      <td>&lt;p&gt;I can get Python to work with Postgresql bu...</td>\n",
              "      <td>&lt;p&gt;I don't have any experience with &lt;a href=\"h...</td>\n",
              "      <td>python mysql postgresql bpgsql</td>\n",
              "      <td>1</td>\n",
              "    </tr>\n",
              "    <tr>\n",
              "      <th>7</th>\n",
              "      <td>256</td>\n",
              "      <td>How do I use Python's itertools.groupby()?</td>\n",
              "      <td>&lt;p&gt;I haven't been able to find an understandab...</td>\n",
              "      <td>&lt;p&gt;Can you show us your code?&lt;/p&gt;\\n\\n&lt;p&gt;The ex...</td>\n",
              "      <td>python iteration</td>\n",
              "      <td>91</td>\n",
              "    </tr>\n",
              "    <tr>\n",
              "      <th>8</th>\n",
              "      <td>364</td>\n",
              "      <td>Adding a Method to an Existing Object Instance</td>\n",
              "      <td>&lt;p&gt;I've read that it is possible to add a meth...</td>\n",
              "      <td>&lt;p&gt;In Python monkey patching generally works b...</td>\n",
              "      <td>python oop methods monkeypatching</td>\n",
              "      <td>2</td>\n",
              "    </tr>\n",
              "    <tr>\n",
              "      <th>9</th>\n",
              "      <td>251</td>\n",
              "      <td>How do you express binary literals in Python?</td>\n",
              "      <td>&lt;p&gt;How do you express an integer as a binary n...</td>\n",
              "      <td>&lt;p&gt;As far as I can tell Python, up through 2.5...</td>\n",
              "      <td>python syntax binary integer literals</td>\n",
              "      <td>1</td>\n",
              "    </tr>\n",
              "  </tbody>\n",
              "</table>\n",
              "</div>"
            ],
            "text/plain": [
              "   score  ... tag_count\n",
              "0     21  ...         1\n",
              "1     27  ...         1\n",
              "2     40  ...         1\n",
              "3     25  ...         2\n",
              "4     28  ...         4\n",
              "5     30  ...         1\n",
              "6     20  ...         1\n",
              "7    256  ...        91\n",
              "8    364  ...         2\n",
              "9    251  ...         1\n",
              "\n",
              "[10 rows x 6 columns]"
            ]
          },
          "metadata": {},
          "execution_count": 29
        }
      ]
    },
    {
      "cell_type": "code",
      "metadata": {
        "id": "9RU_yoBMluGY"
      },
      "source": [
        "df = df[(df['tag_count'] >= 1000) & (df['score'] > 3)]"
      ],
      "execution_count": null,
      "outputs": []
    },
    {
      "cell_type": "code",
      "metadata": {
        "colab": {
          "base_uri": "https://localhost:8080/"
        },
        "id": "pLMXrXgCl3S0",
        "outputId": "e8541858-a580-4996-c5cc-cc0765513b03"
      },
      "source": [
        "df.shape"
      ],
      "execution_count": null,
      "outputs": [
        {
          "output_type": "execute_result",
          "data": {
            "text/plain": [
              "(12044, 6)"
            ]
          },
          "metadata": {},
          "execution_count": 31
        }
      ]
    },
    {
      "cell_type": "code",
      "metadata": {
        "colab": {
          "base_uri": "https://localhost:8080/",
          "height": 596
        },
        "id": "T6ITRZVCmhuu",
        "outputId": "f6e43bae-94bd-4a1d-8289-13d27a1fbdfd"
      },
      "source": [
        "df.sort_values('tag_count', ascending=False)"
      ],
      "execution_count": null,
      "outputs": [
        {
          "output_type": "execute_result",
          "data": {
            "text/html": [
              "<div>\n",
              "<style scoped>\n",
              "    .dataframe tbody tr th:only-of-type {\n",
              "        vertical-align: middle;\n",
              "    }\n",
              "\n",
              "    .dataframe tbody tr th {\n",
              "        vertical-align: top;\n",
              "    }\n",
              "\n",
              "    .dataframe thead th {\n",
              "        text-align: right;\n",
              "    }\n",
              "</style>\n",
              "<table border=\"1\" class=\"dataframe\">\n",
              "  <thead>\n",
              "    <tr style=\"text-align: right;\">\n",
              "      <th></th>\n",
              "      <th>score</th>\n",
              "      <th>title</th>\n",
              "      <th>question</th>\n",
              "      <th>answer</th>\n",
              "      <th>tag</th>\n",
              "      <th>tag_count</th>\n",
              "    </tr>\n",
              "  </thead>\n",
              "  <tbody>\n",
              "    <tr>\n",
              "      <th>11</th>\n",
              "      <td>12</td>\n",
              "      <td>How do I make a menu that does not require the...</td>\n",
              "      <td>&lt;p&gt;I've got a menu in Python. That part was ea...</td>\n",
              "      <td>&lt;p&gt;&lt;strong&gt;On Linux:&lt;/strong&gt;&lt;/p&gt;\\n\\n&lt;ul&gt;\\n&lt;li...</td>\n",
              "      <td>python</td>\n",
              "      <td>43290</td>\n",
              "    </tr>\n",
              "    <tr>\n",
              "      <th>100951</th>\n",
              "      <td>16</td>\n",
              "      <td>Python: What does \"foo() for i in range(bar)\" ...</td>\n",
              "      <td>&lt;p&gt;What exactly does the following statement m...</td>\n",
              "      <td>&lt;p&gt;The way you posted it, it's a &lt;a href=\"http...</td>\n",
              "      <td>python</td>\n",
              "      <td>43290</td>\n",
              "    </tr>\n",
              "    <tr>\n",
              "      <th>101892</th>\n",
              "      <td>18</td>\n",
              "      <td>Pythonic way to access arbitrary element from ...</td>\n",
              "      <td>&lt;p&gt;I have a dictionary, full of items. I want ...</td>\n",
              "      <td>&lt;p&gt;Similar to your second solution, but slight...</td>\n",
              "      <td>python</td>\n",
              "      <td>43290</td>\n",
              "    </tr>\n",
              "    <tr>\n",
              "      <th>101783</th>\n",
              "      <td>4</td>\n",
              "      <td>Average network statistics in Python</td>\n",
              "      <td>&lt;p&gt;I'm new to python and I need to calculate t...</td>\n",
              "      <td>&lt;p&gt;Take your main() and get_network_bytes() an...</td>\n",
              "      <td>python</td>\n",
              "      <td>43290</td>\n",
              "    </tr>\n",
              "    <tr>\n",
              "      <th>101745</th>\n",
              "      <td>20</td>\n",
              "      <td>What is the difference between Python vs Jytho...</td>\n",
              "      <td>&lt;p&gt;I am quite new in Python programming. While...</td>\n",
              "      <td>&lt;p&gt;Jython and IronPython are different python ...</td>\n",
              "      <td>python</td>\n",
              "      <td>43290</td>\n",
              "    </tr>\n",
              "    <tr>\n",
              "      <th>...</th>\n",
              "      <td>...</td>\n",
              "      <td>...</td>\n",
              "      <td>...</td>\n",
              "      <td>...</td>\n",
              "      <td>...</td>\n",
              "      <td>...</td>\n",
              "    </tr>\n",
              "    <tr>\n",
              "      <th>135434</th>\n",
              "      <td>10</td>\n",
              "      <td>How can i extract only text in scrapy selector...</td>\n",
              "      <td>&lt;p&gt;I have this code&lt;/p&gt;\\n\\n&lt;pre&gt;&lt;code&gt;   site ...</td>\n",
              "      <td>&lt;p&gt;I haven't got a scrapy instance running so ...</td>\n",
              "      <td>python scrapy</td>\n",
              "      <td>1000</td>\n",
              "    </tr>\n",
              "    <tr>\n",
              "      <th>135422</th>\n",
              "      <td>5</td>\n",
              "      <td>How to enable cookiemiddleware in scrapy in py...</td>\n",
              "      <td>&lt;p&gt;IN their documentation here &lt;a href=\"http:/...</td>\n",
              "      <td>&lt;p&gt;&lt;strong&gt;update&lt;/strong&gt; it would appear coo...</td>\n",
              "      <td>python scrapy</td>\n",
              "      <td>1000</td>\n",
              "    </tr>\n",
              "    <tr>\n",
              "      <th>574146</th>\n",
              "      <td>4</td>\n",
              "      <td>Scrapy from list to extract key or value</td>\n",
              "      <td>&lt;p&gt;i'm new to python and have some trouble wra...</td>\n",
              "      <td>&lt;p&gt;&lt;strong&gt;Target based on ranks&lt;/strong&gt;&lt;/p&gt;\\...</td>\n",
              "      <td>python scrapy</td>\n",
              "      <td>1000</td>\n",
              "    </tr>\n",
              "    <tr>\n",
              "      <th>299386</th>\n",
              "      <td>13</td>\n",
              "      <td>When and how should use multiple spiders in on...</td>\n",
              "      <td>&lt;p&gt;I am using &lt;code&gt;Scrapy&lt;/code&gt;, it is great...</td>\n",
              "      <td>&lt;p&gt;I don't know if it will answer to your firs...</td>\n",
              "      <td>python scrapy</td>\n",
              "      <td>1000</td>\n",
              "    </tr>\n",
              "    <tr>\n",
              "      <th>390138</th>\n",
              "      <td>4</td>\n",
              "      <td>Scrapy Custom ImagePipeline Settings.py</td>\n",
              "      <td>&lt;p&gt;I have written my own ImagePipeline for my ...</td>\n",
              "      <td>&lt;p&gt;Both image pipelines are processing the &lt;co...</td>\n",
              "      <td>python scrapy</td>\n",
              "      <td>1000</td>\n",
              "    </tr>\n",
              "  </tbody>\n",
              "</table>\n",
              "<p>12044 rows × 6 columns</p>\n",
              "</div>"
            ],
            "text/plain": [
              "        score  ... tag_count\n",
              "11         12  ...     43290\n",
              "100951     16  ...     43290\n",
              "101892     18  ...     43290\n",
              "101783      4  ...     43290\n",
              "101745     20  ...     43290\n",
              "...       ...  ...       ...\n",
              "135434     10  ...      1000\n",
              "135422      5  ...      1000\n",
              "574146      4  ...      1000\n",
              "299386     13  ...      1000\n",
              "390138      4  ...      1000\n",
              "\n",
              "[12044 rows x 6 columns]"
            ]
          },
          "metadata": {},
          "execution_count": 32
        }
      ]
    },
    {
      "cell_type": "markdown",
      "metadata": {
        "id": "OAfHc-tf1gm4"
      },
      "source": [
        "### **C. Cleaning The Data**"
      ]
    },
    {
      "cell_type": "code",
      "metadata": {
        "colab": {
          "base_uri": "https://localhost:8080/"
        },
        "id": "qywYOKV_y72d",
        "outputId": "42a5da95-b26c-4468-f995-a1d3a7da2c98"
      },
      "source": [
        "df.isnull().sum()"
      ],
      "execution_count": null,
      "outputs": [
        {
          "output_type": "execute_result",
          "data": {
            "text/plain": [
              "score         0\n",
              "title         0\n",
              "question      0\n",
              "answer       43\n",
              "tag           0\n",
              "tag_count     0\n",
              "dtype: int64"
            ]
          },
          "metadata": {},
          "execution_count": 33
        }
      ]
    },
    {
      "cell_type": "code",
      "metadata": {
        "id": "QuNm-aguzRBN"
      },
      "source": [
        "# Dropping 'answer' column since it can't be imputed (because this column values is neither categorical nor continuous in nature)\n",
        "df.drop(columns=['answer'], inplace=True)"
      ],
      "execution_count": null,
      "outputs": []
    },
    {
      "cell_type": "code",
      "metadata": {
        "id": "NMcXeZ4616i4"
      },
      "source": [
        "# Defining a function to remove punctuation\n",
        "def punctuation_remover(text):\n",
        "    for punctuation in string.punctuation:\n",
        "        text = text.replace(punctuation, '')\n",
        "    return text"
      ],
      "execution_count": null,
      "outputs": []
    },
    {
      "cell_type": "code",
      "metadata": {
        "colab": {
          "base_uri": "https://localhost:8080/",
          "height": 36
        },
        "id": "3GljYEB22Q8_",
        "outputId": "87df44e2-6fab-4919-d66a-e4ced0831fa8"
      },
      "source": [
        "string.punctuation"
      ],
      "execution_count": null,
      "outputs": [
        {
          "output_type": "execute_result",
          "data": {
            "application/vnd.google.colaboratory.intrinsic+json": {
              "type": "string"
            },
            "text/plain": [
              "'!\"#$%&\\'()*+,-./:;<=>?@[\\\\]^_`{|}~'"
            ]
          },
          "metadata": {},
          "execution_count": 36
        }
      ]
    },
    {
      "cell_type": "code",
      "metadata": {
        "id": "1TyDT2Mi2vvd"
      },
      "source": [
        "# Changing the data type of 'title' column to string\n",
        "df['title'] = df['title'].astype(str)\n",
        "\n",
        "# Applying 'punctuation_remover' function on 'title' column\n",
        "df['title'] = df['title'].apply(punctuation_remover)\n",
        "\n",
        "# Changing text into lowercase\n",
        "df['title'] = df['title'].str.lower()\n",
        "\n",
        "# Splitting the text into words\n",
        "df['title'] = df['title'].str.split()"
      ],
      "execution_count": null,
      "outputs": []
    },
    {
      "cell_type": "code",
      "metadata": {
        "id": "W9Oxk-5t3UE7"
      },
      "source": [
        "# Changing the data type of 'question' column to string\n",
        "df['question'] = df['question'].astype(str)\n",
        "\n",
        "# Removing HTML tags on 'question' column values\n",
        "df['question'] = df['question'].apply(lambda question: re.sub('<[^<]+?>', '', question))\n",
        "\n",
        "# Applying 'punctuation_remover' function on 'question' column\n",
        "df['question'] = df['question'].apply(punctuation_remover)\n",
        "\n",
        "# Changing text into lowercase\n",
        "df['question'] = df['question'].str.lower()\n",
        "\n",
        "# Splitting the text into words\n",
        "df['question'] = df['question'].str.split()"
      ],
      "execution_count": null,
      "outputs": []
    },
    {
      "cell_type": "code",
      "metadata": {
        "colab": {
          "base_uri": "https://localhost:8080/"
        },
        "id": "ZYhnKtUH4wqK",
        "outputId": "e793d04e-ab46-4039-f5f5-003cd2d768cd"
      },
      "source": [
        "df['title'].head()"
      ],
      "execution_count": null,
      "outputs": [
        {
          "output_type": "execute_result",
          "data": {
            "text/plain": [
              "11    [how, do, i, make, a, menu, that, does, not, r...\n",
              "12    [how, to, check, what, os, am, i, running, on,...\n",
              "16    [calling, a, function, of, a, module, from, a,...\n",
              "29    [how, do, i, treat, an, integer, as, an, array...\n",
              "58    [how, do, i, download, a, file, over, http, us...\n",
              "Name: title, dtype: object"
            ]
          },
          "metadata": {},
          "execution_count": 39
        }
      ]
    },
    {
      "cell_type": "code",
      "metadata": {
        "colab": {
          "base_uri": "https://localhost:8080/"
        },
        "id": "gY2e_wC74IDG",
        "outputId": "dac7a7ca-c691-4230-aabb-11d1bae18735"
      },
      "source": [
        "df['question'].head()"
      ],
      "execution_count": null,
      "outputs": [
        {
          "output_type": "execute_result",
          "data": {
            "text/plain": [
              "11    [ive, got, a, menu, in, python, that, part, wa...\n",
              "12    [what, do, i, need, to, look, at, to, see, if,...\n",
              "16    [what, is, the, best, way, to, go, about, call...\n",
              "29    [im, trying, to, decode, the, result, of, the,...\n",
              "58    [i, have, a, small, utility, that, i, use, to,...\n",
              "Name: question, dtype: object"
            ]
          },
          "metadata": {},
          "execution_count": 40
        }
      ]
    },
    {
      "cell_type": "markdown",
      "metadata": {
        "id": "299SL3TB4tjn"
      },
      "source": [
        "### **D. Lemmatization**"
      ]
    },
    {
      "cell_type": "code",
      "metadata": {
        "id": "cufPu0rW428L"
      },
      "source": [
        "lematizer = WordNetLemmatizer()\n",
        "\n",
        "# Defining lemmatizer function\n",
        "def word_lemmatizer(text):\n",
        "    lemma_text = [lematizer.lemmatize(word) for word in text]\n",
        "    return lemma_text"
      ],
      "execution_count": null,
      "outputs": []
    },
    {
      "cell_type": "code",
      "metadata": {
        "id": "7ija6QdA5DUg"
      },
      "source": [
        "# Applying lemmatizer function to 'title' and 'answer' columns\n",
        "df['title'] = df['title'].apply(lambda title: word_lemmatizer(title))\n",
        "df['question'] = df['question'].apply(lambda question: word_lemmatizer(question))"
      ],
      "execution_count": null,
      "outputs": []
    },
    {
      "cell_type": "markdown",
      "metadata": {
        "id": "5HxfgQ5y54h5"
      },
      "source": [
        "### **E. Removing Stopword**"
      ]
    },
    {
      "cell_type": "code",
      "metadata": {
        "id": "S5ryLDJK6G25"
      },
      "source": [
        "df['title'] = df['title'].apply(lambda title: [word for word in title if word not in stopwords.words('english')])\n",
        "df['question'] = df['question'].apply(lambda question: [word for word in question if word not in stopwords.words('english')])"
      ],
      "execution_count": null,
      "outputs": []
    },
    {
      "cell_type": "code",
      "metadata": {
        "colab": {
          "base_uri": "https://localhost:8080/"
        },
        "id": "DIPMtowR2tva",
        "outputId": "97bfad50-2069-4fe5-992b-dd5fc8d8e826"
      },
      "source": [
        "stopwords.words('english')"
      ],
      "execution_count": null,
      "outputs": [
        {
          "output_type": "execute_result",
          "data": {
            "text/plain": [
              "['i',\n",
              " 'me',\n",
              " 'my',\n",
              " 'myself',\n",
              " 'we',\n",
              " 'our',\n",
              " 'ours',\n",
              " 'ourselves',\n",
              " 'you',\n",
              " \"you're\",\n",
              " \"you've\",\n",
              " \"you'll\",\n",
              " \"you'd\",\n",
              " 'your',\n",
              " 'yours',\n",
              " 'yourself',\n",
              " 'yourselves',\n",
              " 'he',\n",
              " 'him',\n",
              " 'his',\n",
              " 'himself',\n",
              " 'she',\n",
              " \"she's\",\n",
              " 'her',\n",
              " 'hers',\n",
              " 'herself',\n",
              " 'it',\n",
              " \"it's\",\n",
              " 'its',\n",
              " 'itself',\n",
              " 'they',\n",
              " 'them',\n",
              " 'their',\n",
              " 'theirs',\n",
              " 'themselves',\n",
              " 'what',\n",
              " 'which',\n",
              " 'who',\n",
              " 'whom',\n",
              " 'this',\n",
              " 'that',\n",
              " \"that'll\",\n",
              " 'these',\n",
              " 'those',\n",
              " 'am',\n",
              " 'is',\n",
              " 'are',\n",
              " 'was',\n",
              " 'were',\n",
              " 'be',\n",
              " 'been',\n",
              " 'being',\n",
              " 'have',\n",
              " 'has',\n",
              " 'had',\n",
              " 'having',\n",
              " 'do',\n",
              " 'does',\n",
              " 'did',\n",
              " 'doing',\n",
              " 'a',\n",
              " 'an',\n",
              " 'the',\n",
              " 'and',\n",
              " 'but',\n",
              " 'if',\n",
              " 'or',\n",
              " 'because',\n",
              " 'as',\n",
              " 'until',\n",
              " 'while',\n",
              " 'of',\n",
              " 'at',\n",
              " 'by',\n",
              " 'for',\n",
              " 'with',\n",
              " 'about',\n",
              " 'against',\n",
              " 'between',\n",
              " 'into',\n",
              " 'through',\n",
              " 'during',\n",
              " 'before',\n",
              " 'after',\n",
              " 'above',\n",
              " 'below',\n",
              " 'to',\n",
              " 'from',\n",
              " 'up',\n",
              " 'down',\n",
              " 'in',\n",
              " 'out',\n",
              " 'on',\n",
              " 'off',\n",
              " 'over',\n",
              " 'under',\n",
              " 'again',\n",
              " 'further',\n",
              " 'then',\n",
              " 'once',\n",
              " 'here',\n",
              " 'there',\n",
              " 'when',\n",
              " 'where',\n",
              " 'why',\n",
              " 'how',\n",
              " 'all',\n",
              " 'any',\n",
              " 'both',\n",
              " 'each',\n",
              " 'few',\n",
              " 'more',\n",
              " 'most',\n",
              " 'other',\n",
              " 'some',\n",
              " 'such',\n",
              " 'no',\n",
              " 'nor',\n",
              " 'not',\n",
              " 'only',\n",
              " 'own',\n",
              " 'same',\n",
              " 'so',\n",
              " 'than',\n",
              " 'too',\n",
              " 'very',\n",
              " 's',\n",
              " 't',\n",
              " 'can',\n",
              " 'will',\n",
              " 'just',\n",
              " 'don',\n",
              " \"don't\",\n",
              " 'should',\n",
              " \"should've\",\n",
              " 'now',\n",
              " 'd',\n",
              " 'll',\n",
              " 'm',\n",
              " 'o',\n",
              " 're',\n",
              " 've',\n",
              " 'y',\n",
              " 'ain',\n",
              " 'aren',\n",
              " \"aren't\",\n",
              " 'couldn',\n",
              " \"couldn't\",\n",
              " 'didn',\n",
              " \"didn't\",\n",
              " 'doesn',\n",
              " \"doesn't\",\n",
              " 'hadn',\n",
              " \"hadn't\",\n",
              " 'hasn',\n",
              " \"hasn't\",\n",
              " 'haven',\n",
              " \"haven't\",\n",
              " 'isn',\n",
              " \"isn't\",\n",
              " 'ma',\n",
              " 'mightn',\n",
              " \"mightn't\",\n",
              " 'mustn',\n",
              " \"mustn't\",\n",
              " 'needn',\n",
              " \"needn't\",\n",
              " 'shan',\n",
              " \"shan't\",\n",
              " 'shouldn',\n",
              " \"shouldn't\",\n",
              " 'wasn',\n",
              " \"wasn't\",\n",
              " 'weren',\n",
              " \"weren't\",\n",
              " 'won',\n",
              " \"won't\",\n",
              " 'wouldn',\n",
              " \"wouldn't\"]"
            ]
          },
          "metadata": {},
          "execution_count": 44
        }
      ]
    },
    {
      "cell_type": "code",
      "metadata": {
        "colab": {
          "base_uri": "https://localhost:8080/"
        },
        "id": "IYRul-Hp6p9w",
        "outputId": "33d7618f-ad97-476f-d8b7-379c3455b78a"
      },
      "source": [
        "df['title'].head()"
      ],
      "execution_count": null,
      "outputs": [
        {
          "output_type": "execute_result",
          "data": {
            "text/plain": [
              "11    [make, menu, doe, require, user, press, enter,...\n",
              "12                             [check, running, python]\n",
              "16    [calling, function, module, string, function, ...\n",
              "29                [treat, integer, array, byte, python]\n",
              "58                [download, file, http, using, python]\n",
              "Name: title, dtype: object"
            ]
          },
          "metadata": {},
          "execution_count": 45
        }
      ]
    },
    {
      "cell_type": "code",
      "metadata": {
        "colab": {
          "base_uri": "https://localhost:8080/"
        },
        "id": "XMZsc2iw8FhX",
        "outputId": "e9a6b0b9-9d12-4e34-f38e-73f2146e62fc"
      },
      "source": [
        "df['question'].head()"
      ],
      "execution_count": null,
      "outputs": [
        {
          "output_type": "execute_result",
          "data": {
            "text/plain": [
              "11    [ive, got, menu, python, part, wa, easy, im, u...\n",
              "12             [need, look, see, im, window, unix, etc]\n",
              "16    [best, way, go, calling, function, given, stri...\n",
              "29    [im, trying, decode, result, python, oswait, f...\n",
              "58    [small, utility, use, download, mp3, website, ...\n",
              "Name: question, dtype: object"
            ]
          },
          "metadata": {},
          "execution_count": 46
        }
      ]
    },
    {
      "cell_type": "code",
      "metadata": {
        "id": "F1dCiDUIAMyM"
      },
      "source": [
        "df.drop(columns=['score', 'tag_count'], inplace=True)"
      ],
      "execution_count": null,
      "outputs": []
    },
    {
      "cell_type": "code",
      "metadata": {
        "colab": {
          "base_uri": "https://localhost:8080/"
        },
        "id": "OHKVVhE89u7q",
        "outputId": "8d39526f-b945-41bd-aa43-74f1c559e043"
      },
      "source": [
        "df.title[12]"
      ],
      "execution_count": null,
      "outputs": [
        {
          "output_type": "execute_result",
          "data": {
            "text/plain": [
              "['check', 'running', 'python']"
            ]
          },
          "metadata": {},
          "execution_count": 48
        }
      ]
    },
    {
      "cell_type": "markdown",
      "metadata": {
        "id": "i6kPiSHhAhMc"
      },
      "source": [
        "### **F. TF-IDF Vectorization**"
      ]
    },
    {
      "cell_type": "code",
      "metadata": {
        "id": "5rS07YwNAqDp"
      },
      "source": [
        "'''\n",
        "TF-IDF equation:\n",
        "TF = (# of times of specific word in a doc) / (# of words in doc)\n",
        "IDF = log((# of docs) / (# of docs that contains specific word))\n",
        "TF-IDF = TF * IDF\n",
        "'''\n",
        "\n",
        "vectorizer = TfidfVectorizer()\n",
        "\n",
        "# Changing the data type of 'title' and 'question' columns to string\n",
        "df['title'] = df['title'].astype(str)\n",
        "df['question'] = df['question'].astype(str)\n",
        "\n",
        "X1 = vectorizer.fit_transform(df['title'].str.lower())\n",
        "X2 = vectorizer.fit_transform(df['question'].str.lower())"
      ],
      "execution_count": null,
      "outputs": []
    },
    {
      "cell_type": "code",
      "metadata": {
        "colab": {
          "base_uri": "https://localhost:8080/"
        },
        "id": "wY7rEuw6Klnc",
        "outputId": "520c5c99-0efd-4a34-f70b-3e4fceccdc82"
      },
      "source": [
        "print(X2)"
      ],
      "execution_count": null,
      "outputs": [
        {
          "output_type": "stream",
          "name": "stdout",
          "text": [
            "  (0, 86147)\t0.08861650904205061\n",
            "  (0, 23366)\t0.16915899566211257\n",
            "  (0, 50509)\t0.5074769869863376\n",
            "  (0, 51622)\t0.03483148450794355\n",
            "  (0, 83708)\t0.0497577383425753\n",
            "  (0, 41894)\t0.09436248609254481\n",
            "  (0, 97321)\t0.04180020885397638\n",
            "  (0, 34280)\t0.08967875941316417\n",
            "  (0, 78759)\t0.16915899566211257\n",
            "  (0, 73735)\t0.16915899566211257\n",
            "  (0, 16560)\t0.20604154666512225\n",
            "  (0, 19842)\t0.16767812720573932\n",
            "  (0, 38550)\t0.15677718224080936\n",
            "  (0, 78042)\t0.12349866546018279\n",
            "  (0, 70305)\t0.18666309536615075\n",
            "  (0, 87254)\t0.08682272825649469\n",
            "  (0, 46098)\t0.043993920931248466\n",
            "  (0, 36463)\t0.07328998300264931\n",
            "  (0, 49836)\t0.16915899566211257\n",
            "  (0, 93267)\t0.10986518435937952\n",
            "  (0, 46040)\t0.11015818649661721\n",
            "  (0, 14938)\t0.11650327382170565\n",
            "  (0, 71340)\t0.07025472122136338\n",
            "  (0, 96424)\t0.03775270050310469\n",
            "  (0, 54497)\t0.11338556302523975\n",
            "  :\t:\n",
            "  (12042, 41754)\t0.026228241817810805\n",
            "  (12042, 48765)\t0.021455120697642733\n",
            "  (12043, 61904)\t0.19794577121851745\n",
            "  (12043, 30967)\t0.19794577121851745\n",
            "  (12043, 67294)\t0.19794577121851745\n",
            "  (12043, 30966)\t0.18967431170225665\n",
            "  (12043, 39338)\t0.7586972468090266\n",
            "  (12043, 30485)\t0.1801309959394182\n",
            "  (12043, 27264)\t0.17925350512147964\n",
            "  (12043, 46346)\t0.12856158528820616\n",
            "  (12043, 73698)\t0.17553415826325247\n",
            "  (12043, 35907)\t0.08970804325540208\n",
            "  (12043, 19445)\t0.15428857290601372\n",
            "  (12043, 35101)\t0.10339762779416412\n",
            "  (12043, 83666)\t0.0883851354503271\n",
            "  (12043, 25902)\t0.21118207039629858\n",
            "  (12043, 21774)\t0.11459214355037545\n",
            "  (12043, 55625)\t0.09649122115450576\n",
            "  (12043, 45293)\t0.06814044812959663\n",
            "  (12043, 42590)\t0.06241293075121867\n",
            "  (12043, 91349)\t0.06413008450670668\n",
            "  (12043, 35964)\t0.12029012577194541\n",
            "  (12043, 38492)\t0.05556220646074319\n",
            "  (12043, 76226)\t0.06513696171259307\n",
            "  (12043, 41629)\t0.08419680404696567\n"
          ]
        }
      ]
    },
    {
      "cell_type": "code",
      "metadata": {
        "id": "Q06J1m-3B-eT"
      },
      "source": [
        "label_encoder = LabelEncoder() \n",
        "\n",
        "df['tag'] = label_encoder.fit_transform(df['tag'])\n",
        "y = df['tag'].values"
      ],
      "execution_count": null,
      "outputs": []
    },
    {
      "cell_type": "markdown",
      "metadata": {
        "id": "YgopXulMCcUt"
      },
      "source": [
        "# **Splitting The Dataset to Train and Test Sets**"
      ]
    },
    {
      "cell_type": "code",
      "metadata": {
        "id": "Jc-RZ0X2CSmP"
      },
      "source": [
        "x_train, x_test, y_train, y_test = train_test_split(X2, y, test_size=0.3, random_state=42)"
      ],
      "execution_count": null,
      "outputs": []
    },
    {
      "cell_type": "code",
      "metadata": {
        "id": "9x7j0i27BiF6"
      },
      "source": [
        "accuracy = []\n",
        "\n",
        "for i in range(1, 40):\n",
        "    KNN = KNeighborsClassifier(n_neighbors = i).fit(x_train, y_train)\n",
        "    prediction = KNN.predict(x_test)\n",
        "    accuracy.append(metrics.accuracy_score(y_test, prediction))"
      ],
      "execution_count": null,
      "outputs": []
    },
    {
      "cell_type": "code",
      "metadata": {
        "colab": {
          "base_uri": "https://localhost:8080/",
          "height": 422
        },
        "id": "HEPb-56PCfCD",
        "outputId": "ec205699-7c71-4f68-8e9d-6dd88c4543dd"
      },
      "source": [
        "plt.figure(figsize=(10, 6))\n",
        "plt.plot(range(1, 40), accuracy, color = 'blue', linestyle='dashed', \n",
        "         marker='o', markerfacecolor='red', markersize=10)\n",
        "plt.title('Accuracy vs. K Value')\n",
        "plt.xlabel('K')\n",
        "plt.ylabel('Accuracy')\n",
        "print(\"Maximum Accuracy:\", max(accuracy), \"at K =\", accuracy.index(max(accuracy))+1)"
      ],
      "execution_count": null,
      "outputs": [
        {
          "output_type": "stream",
          "name": "stdout",
          "text": [
            "Maximum Accuracy: 0.6314333148865523 at K = 29\n"
          ]
        },
        {
          "output_type": "display_data",
          "data": {
            "image/png": "[encoded data removed]",
            "text/plain": [
              "<Figure size 720x432 with 1 Axes>"
            ]
          },
          "metadata": {
            "needs_background": "light"
          }
        }
      ]
    }
  ]
}